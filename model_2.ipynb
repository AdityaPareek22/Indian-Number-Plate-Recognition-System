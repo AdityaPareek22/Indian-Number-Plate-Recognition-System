{
  "nbformat": 4,
  "nbformat_minor": 0,
  "metadata": {
    "colab": {
      "name": "model_2.ipynb",
      "version": "0.3.2",
      "provenance": [],
      "collapsed_sections": [],
      "include_colab_link": true
    },
    "kernelspec": {
      "name": "python3",
      "display_name": "Python 3"
    },
    "accelerator": "GPU"
  },
  "cells": [
    {
      "cell_type": "markdown",
      "metadata": {
        "id": "view-in-github",
        "colab_type": "text"
      },
      "source": [
        "<a href=\"https://colab.research.google.com/github/AdityaPareek22/Indian-Number-Plate-Recognition-System/blob/master/model_2.ipynb\" target=\"_parent\"><img src=\"https://colab.research.google.com/assets/colab-badge.svg\" alt=\"Open In Colab\"/></a>"
      ]
    },
    {
      "metadata": {
        "id": "BRZWyOk4_aAZ",
        "colab_type": "code",
        "outputId": "31e68a90-9209-472b-84e6-7887fb491f5e",
        "colab": {
          "base_uri": "https://localhost:8080/",
          "height": 34
        }
      },
      "cell_type": "code",
      "source": [
        "from google.colab import drive\n",
        "drive.mount('/content/gdrive')"
      ],
      "execution_count": 0,
      "outputs": [
        {
          "output_type": "stream",
          "text": [
            "Drive already mounted at /content/gdrive; to attempt to forcibly remount, call drive.mount(\"/content/gdrive\", force_remount=True).\n"
          ],
          "name": "stdout"
        }
      ]
    },
    {
      "metadata": {
        "id": "B_yPoyaFBQEW",
        "colab_type": "code",
        "outputId": "0b193aed-575d-4868-d0ca-b5b93dd7d0f7",
        "colab": {
          "base_uri": "https://localhost:8080/",
          "height": 34
        }
      },
      "cell_type": "code",
      "source": [
        "import numpy as np\n",
        "import pandas as pd\n",
        "import cv2\n",
        "import os\n",
        "import sys\n",
        "import glob\n",
        "import matplotlib.pyplot as plt\n",
        "from skimage.transform import resize\n",
        "from skimage import io\n",
        "import skimage\n",
        "import sklearn\n",
        "import pickle\n",
        "from tqdm import tqdm\n",
        "import gc\n",
        "from sklearn.model_selection import train_test_split\n",
        "\n",
        "import keras\n",
        "from keras.models import Sequential,  Model\n",
        "from keras.layers import Dense,  Dropout,  Flatten,  Input\n",
        "from keras.layers import GlobalAveragePooling2D, GlobalMaxPooling2D, ZeroPadding2D\n",
        "from keras.constraints import maxnorm\n",
        "from keras.optimizers import SGD,  Adam\n",
        "from keras.layers.convolutional import Conv2D,  MaxPooling2D, Convolution2D\n",
        "from keras.utils import np_utils\n",
        "from keras import backend as K\n",
        "K.set_image_dim_ordering('tf')\n",
        "from keras.preprocessing.image import ImageDataGenerator\n",
        "\n",
        "from keras.applications.vgg16 import VGG16\n",
        "from keras.preprocessing import image\n",
        "from keras.applications.vgg16 import preprocess_input\n",
        "from keras.layers.normalization import BatchNormalization\n",
        "from keras.layers import Activation\n",
        "from keras.callbacks import EarlyStopping, ModelCheckpoint"
      ],
      "execution_count": 0,
      "outputs": [
        {
          "output_type": "stream",
          "text": [
            "Using TensorFlow backend.\n"
          ],
          "name": "stderr"
        }
      ]
    },
    {
      "metadata": {
        "id": "iQLDfSmtEx2e",
        "colab_type": "code",
        "colab": {}
      },
      "cell_type": "code",
      "source": [
        "os.chdir(os.path.join('.','gdrive','My Drive','grid'))"
      ],
      "execution_count": 0,
      "outputs": []
    },
    {
      "metadata": {
        "id": "he9fboEUBc8E",
        "colab_type": "code",
        "colab": {}
      },
      "cell_type": "code",
      "source": [
        "data = pd.read_csv('./training.csv')"
      ],
      "execution_count": 0,
      "outputs": []
    },
    {
      "metadata": {
        "id": "SSPKEkrOB1T8",
        "colab_type": "code",
        "colab": {}
      },
      "cell_type": "code",
      "source": [
        "train_dir = './train_data'"
      ],
      "execution_count": 0,
      "outputs": []
    },
    {
      "metadata": {
        "id": "vz6ETdr7B7K1",
        "colab_type": "code",
        "outputId": "1bc42571-1310-4abd-e411-69cf776b31e2",
        "colab": {
          "base_uri": "https://localhost:8080/",
          "height": 50
        }
      },
      "cell_type": "code",
      "source": [
        "datagen = ImageDataGenerator(validation_split=0.2)\n",
        "\n",
        "train_generator = datagen.flow_from_dataframe(dataframe=data,\n",
        "                                              directory=train_dir,\n",
        "                                              subset='training',\n",
        "                                              x_col=data.columns[0], \n",
        "                                              y_col=data.columns[1:], \n",
        "                                              target_size=(480,640),\n",
        "                                              color_mode='rgb',\n",
        "                                              class_mode='other',\n",
        "                                              batch_size=12,\n",
        "                                              shuffle=True,\n",
        "                                              seed=22)\n",
        "\n",
        "validation_generator = datagen.flow_from_dataframe(dataframe=data,\n",
        "                                              directory=train_dir,\n",
        "                                              subset='validation',\n",
        "                                              x_col=data.columns[0], \n",
        "                                              y_col=data.columns[1:], \n",
        "                                              target_size=(480,640),\n",
        "                                              color_mode='rgb',\n",
        "                                              class_mode='other',\n",
        "                                              batch_size=12,\n",
        "                                              shuffle=True,\n",
        "                                              seed=22)"
      ],
      "execution_count": 0,
      "outputs": [
        {
          "output_type": "stream",
          "text": [
            "Found 11200 images.\n",
            "Found 2800 images.\n"
          ],
          "name": "stdout"
        }
      ]
    },
    {
      "metadata": {
        "id": "lbIapR9jCFyj",
        "colab_type": "code",
        "outputId": "22e8a401-1e19-49d6-c999-a8e20417d885",
        "colab": {
          "base_uri": "https://localhost:8080/",
          "height": 138
        }
      },
      "cell_type": "code",
      "source": [
        "model = Sequential()\n",
        "model.add(Conv2D(32, (3,3), padding='same', input_shape=(480,640,3)))\n",
        "model.add(Activation('relu'))\n",
        "model.add(Conv2D(32, (3, 3)))\n",
        "model.add(Activation('relu'))\n",
        "model.add(MaxPooling2D(pool_size=(2, 2)))\n",
        "\n",
        "model.add(Conv2D(64, (3, 3), padding='same'))\n",
        "model.add(Activation('relu'))\n",
        "model.add(Conv2D(64, (3, 3)))\n",
        "model.add(Activation('relu'))\n",
        "model.add(MaxPooling2D(pool_size=(2, 2)))\n",
        "model.add(Dropout(0.25))\n",
        "\n",
        "model.add(GlobalAveragePooling2D())\n",
        "model.add(Dense(512))\n",
        "model.add(Activation('relu'))\n",
        "model.add(Dropout(0.5))\n",
        "model.add(Dense(4))\n",
        "model.compile(optimizer=Adam(lr=1e-3,decay=1e-6),loss='mse',metrics=['accuracy'])"
      ],
      "execution_count": 0,
      "outputs": [
        {
          "output_type": "stream",
          "text": [
            "WARNING:tensorflow:From /usr/local/lib/python3.6/dist-packages/tensorflow/python/framework/op_def_library.py:263: colocate_with (from tensorflow.python.framework.ops) is deprecated and will be removed in a future version.\n",
            "Instructions for updating:\n",
            "Colocations handled automatically by placer.\n",
            "WARNING:tensorflow:From /usr/local/lib/python3.6/dist-packages/keras/backend/tensorflow_backend.py:3445: calling dropout (from tensorflow.python.ops.nn_ops) with keep_prob is deprecated and will be removed in a future version.\n",
            "Instructions for updating:\n",
            "Please use `rate` instead of `keep_prob`. Rate should be set to `rate = 1 - keep_prob`.\n"
          ],
          "name": "stdout"
        }
      ]
    },
    {
      "metadata": {
        "id": "iA3OjT4xC4Q5",
        "colab_type": "code",
        "colab": {}
      },
      "cell_type": "code",
      "source": [
        "STEP_SIZE_TRAIN=train_generator.n//train_generator.batch_size\n",
        "STEP_SIZE_VALID=validation_generator.n//validation_generator.batch_size"
      ],
      "execution_count": 0,
      "outputs": []
    },
    {
      "metadata": {
        "id": "a7Ph0O8HDBbW",
        "colab_type": "code",
        "colab": {}
      },
      "cell_type": "code",
      "source": [
        "# Callbacks\n",
        "early_stopping_monitor = EarlyStopping(patience=3)\n",
        "filepath='model_2.h5'\n",
        "checkpoint = ModelCheckpoint(filepath, monitor='val_acc', verbose=1, save_best_only=True, mode='max')\n",
        "callbacks_list = [checkpoint, early_stopping_monitor]"
      ],
      "execution_count": 0,
      "outputs": []
    },
    {
      "metadata": {
        "id": "moHnebG8DS0i",
        "colab_type": "code",
        "outputId": "f6c7dc39-4c20-4dc1-e19c-10d1ba566e8f",
        "colab": {
          "base_uri": "https://localhost:8080/",
          "height": 759
        }
      },
      "cell_type": "code",
      "source": [
        "model.fit_generator(generator=train_generator,\n",
        "                    steps_per_epoch=STEP_SIZE_TRAIN,\n",
        "                    validation_data=validation_generator,\n",
        "                    validation_steps=STEP_SIZE_VALID,\n",
        "                    epochs=10,\n",
        "                    use_multiprocessing=True,\n",
        "                    callbacks=callbacks_list)"
      ],
      "execution_count": 0,
      "outputs": [
        {
          "output_type": "stream",
          "text": [
            "WARNING:tensorflow:From /usr/local/lib/python3.6/dist-packages/tensorflow/python/ops/math_ops.py:3066: to_int32 (from tensorflow.python.ops.math_ops) is deprecated and will be removed in a future version.\n",
            "Instructions for updating:\n",
            "Use tf.cast instead.\n",
            "Epoch 1/10\n",
            "933/933 [==============================] - 4067s 4s/step - loss: 8511.4824 - acc: 0.8990 - val_loss: 5494.8879 - val_acc: 0.8991\n",
            "\n",
            "Epoch 00001: val_acc improved from -inf to 0.89914, saving model to model_2.h5\n",
            "Epoch 2/10\n",
            "933/933 [==============================] - 525s 563ms/step - loss: 6912.9821 - acc: 0.9045 - val_loss: 5676.5520 - val_acc: 0.9003\n",
            "\n",
            "Epoch 00002: val_acc improved from 0.89914 to 0.90029, saving model to model_2.h5\n",
            "Epoch 3/10\n",
            "933/933 [==============================] - 519s 556ms/step - loss: 6505.0711 - acc: 0.9043 - val_loss: 5384.0141 - val_acc: 0.8981\n",
            "\n",
            "Epoch 00003: val_acc did not improve from 0.90029\n",
            "Epoch 4/10\n",
            "933/933 [==============================] - 524s 562ms/step - loss: 6178.2990 - acc: 0.9043 - val_loss: 4910.5042 - val_acc: 0.8996\n",
            "\n",
            "Epoch 00004: val_acc did not improve from 0.90029\n",
            "Epoch 5/10\n",
            "933/933 [==============================] - 525s 563ms/step - loss: 5616.8648 - acc: 0.9040 - val_loss: 6054.8853 - val_acc: 0.8992\n",
            "\n",
            "Epoch 00005: val_acc did not improve from 0.90029\n",
            "Epoch 6/10\n",
            "933/933 [==============================] - 525s 563ms/step - loss: 4584.1073 - acc: 0.9046 - val_loss: 3901.7648 - val_acc: 0.8989\n",
            "\n",
            "Epoch 00006: val_acc did not improve from 0.90029\n",
            "Epoch 7/10\n",
            "933/933 [==============================] - 525s 563ms/step - loss: 4389.9273 - acc: 0.9042 - val_loss: 3558.3651 - val_acc: 0.9006\n",
            "\n",
            "Epoch 00007: val_acc improved from 0.90029 to 0.90065, saving model to model_2.h5\n",
            "Epoch 8/10\n",
            "933/933 [==============================] - 529s 567ms/step - loss: 4430.0717 - acc: 0.9045 - val_loss: 3535.7823 - val_acc: 0.8985\n",
            "\n",
            "Epoch 00008: val_acc did not improve from 0.90065\n",
            "Epoch 9/10\n",
            "933/933 [==============================] - 536s 574ms/step - loss: 4263.1891 - acc: 0.9045 - val_loss: 3348.0129 - val_acc: 0.8999\n",
            "\n",
            "Epoch 00009: val_acc did not improve from 0.90065\n",
            "Epoch 10/10\n",
            "933/933 [==============================] - 539s 577ms/step - loss: 4140.9008 - acc: 0.9034 - val_loss: 3355.1967 - val_acc: 0.8971\n",
            "\n",
            "Epoch 00010: val_acc did not improve from 0.90065\n"
          ],
          "name": "stdout"
        }
      ]
    }
  ]
}